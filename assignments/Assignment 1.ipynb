{
 "cells": [
  {
   "cell_type": "markdown",
   "metadata": {},
   "source": [
    "# Assignment 1 - Probability, Linear Algebra, Programming, and Git\n",
    "\n",
    "## *Malvika Marathe*\n",
    "Netid:  *mm742*"
   ]
  },
  {
   "cell_type": "markdown",
   "metadata": {},
   "source": [
    "# Probability and Statistics Theory"
   ]
  },
  {
   "cell_type": "markdown",
   "metadata": {
    "collapsed": true
   },
   "source": [
    "## 1\n",
    "Let $f(x) = \\begin{cases}\n",
    "                0           & x < 0  \\\\\n",
    "                \\alpha x^2  & 0 \\leq x \\leq 2 \\\\\n",
    "                0           & 2 < x\n",
    "            \\end{cases}$\n",
    "            \n",
    "For what value of $\\alpha$ is $f(x)$ a valid probability density function?\n",
    "\n",
    "*Note: for all assignments, write out all equations and math for all assignments using markdown and [LaTeX](https://tobi.oetiker.ch/lshort/lshort.pdf) and show all work*"
   ]
  },
  {
   "cell_type": "markdown",
   "metadata": {},
   "source": [
    "**ANSWER**\n",
    "\n",
    "$$\\int_{0}^{2} ax^2 dx$$\n",
    "\n",
    "$$= a \\cdot \\frac{1}{3}x^3 \\Biggr|_{0}^{2}$$\n",
    "\n",
    "$$ = \\frac{a}{3}(8) - 0$$\n",
    "$$ = \\frac{8a}{3}$$\n",
    "\n",
    "$$\\frac{8a}{3} = 1 $$\n",
    "$$ 8a = 3$$\n",
    "$$a = \\frac{3}{8} $$\n"
   ]
  },
  {
   "cell_type": "markdown",
   "metadata": {},
   "source": [
    "## 2\n",
    "What is the cumulative distribution function (CDF) that corresponds to the following probability distribution function? Please state the value of the CDF for all possible values of $x$.\n",
    "\n",
    "$f(x) = \\begin{cases}\n",
    "    \\frac{1}{3} & 0 < x < 3 \\\\\n",
    "    0           & \\text{otherwise}\n",
    "    \\end{cases}$"
   ]
  },
  {
   "cell_type": "markdown",
   "metadata": {},
   "source": [
    "**ANSWER**\n",
    "\n",
    "CDF = integral of PDF\n",
    "\n",
    "for $0<x<3$\n",
    "\n",
    "$$\\int_{0}^{3}\\frac{1}{3}dx$$\n",
    "\n",
    "$$=\\frac{1}{3}\\cdot x \\Biggr|_{0}^{3}$$\n",
    "$$=\\frac{1}{3}x$$\n",
    "\n",
    "$CDF = \\begin{cases}\n",
    "    0 & x<= 0 \\\\\n",
    "    \\frac{1}{3}x & 0 < x < 3 \\\\\n",
    "     1          & x >=3\n",
    "    \\end{cases}$\n"
   ]
  },
  {
   "cell_type": "markdown",
   "metadata": {},
   "source": [
    "## 3\n",
    "For the probability distribution function for the random variable $X$,\n",
    "\n",
    "$f(x) = \\begin{cases}\n",
    "    \\frac{1}{3} & 0 < x < 3 \\\\\n",
    "    0           & \\text{otherwise}\n",
    "    \\end{cases}$\n",
    "    \n",
    "what is the (a) expected value and (b) variance of $X$. *Show all work*."
   ]
  },
  {
   "cell_type": "markdown",
   "metadata": {},
   "source": [
    "**ANSWER**\n",
    "\n",
    "(a) Expected value:\n",
    "$$E[x] =  \\int^{+\\infty}_{-\\infty} xf(x) \\, dx $$\n",
    "\n",
    "$$ = \\int^{0}_{3} x\\frac{1}{3} \\, dx $$\n",
    "$$ = \\frac{1}{3}\\left(\\frac{1}{2}\\right) x^2 \\,\\Biggr|_{0}^{3}$$\n",
    "$$ = \\frac{1}{6}(9) - 0 $$\n",
    "$$ = \\frac{3}{2}$$\n",
    "\n",
    "(b) Variance:\n",
    "$$Var[x] = E(x^2) - [E(x)]^2$$ \n",
    "\n",
    "$$ = \\int^{0}_{3} x^2 \\left(\\frac{1}{3}\\right) \\, dx - \\frac{9}{4}$$\n",
    "$$ = \\frac{1}{3}\\left(\\frac{1}{3}\\right)x^3 \\, \\Biggr|_{0}^{3} - \\frac{9}{4} $$\n",
    "$$ = 3 - \\frac{9}{4}$$\n",
    "$$ = \\frac{3}{4}$$"
   ]
  },
  {
   "cell_type": "markdown",
   "metadata": {},
   "source": [
    "## 4\n",
    "Consider the following table of data that provides the values of a discrete data vector $\\mathbf{x}$ of samples from the random variable $X$, where each entry in $\\mathbf{x}$ is given as $x_i$.\n",
    "\n",
    "*Table 1. Dataset N=5 observations*\n",
    "\n",
    "|        | $x_0$ | $x_1$ | $x_2$ | $x_3$ | $x_4$ |\n",
    "|------  |-------|-------|-------|-------|-------|\n",
    "|$\\textbf{x}$| 2     | 3     | 10    | -1    | -1    |\n",
    "\n",
    "What is the (a) mean, (b) variance, and the  of the data? \n",
    "\n",
    "*Show all work. Your answer should include the definition of mean, median, and variance in the context of discrete data.*"
   ]
  },
  {
   "cell_type": "markdown",
   "metadata": {},
   "source": [
    "**ANSWER**\n",
    "\n",
    "(a) Mean\n",
    "$$\\frac{2 + 3 + 10 + (-1) + (-1)}{5}$$\n",
    "\n",
    "$$=\\frac{13}{5}$$\n",
    "\n",
    "$$=2.6$$\n",
    "\n",
    "\n",
    "(b) Variance\n",
    "$$\\frac{(2-2.6)^2 + (3-2.6)^2 + (10-2.6)^2 + (-1-2.6)^2 + (-1-2.6)^2}{5-1}$$\n",
    "\n",
    "$$= \\frac{0.36 + 0.16 + 54.76 + 12.96 + 12.96}{5-1}$$\n",
    "\n",
    "$$=20.3$$\n"
   ]
  },
  {
   "cell_type": "markdown",
   "metadata": {},
   "source": [
    "## 5\n",
    "Review of counting from probability theory. \n",
    "\n",
    "(a) How many different 7-place license plates are possible if the first 3 places only contain letters and the last 4 only contain numbers?\n",
    "\n",
    "(b) How many different batting orders are possible for a baseball team with 9 players?\n",
    "\n",
    "(c) How many batting orders of 5 players are possible for a team with 9 players total?\n",
    "\n",
    "(d) Let's assume this class has 26 students and we want to form project teams. How many unique teams of 3 are possible?\n",
    "\n",
    "*Hint: For each problem, determine if order matters, and if it should be calculated with or without replacement.*"
   ]
  },
  {
   "cell_type": "markdown",
   "metadata": {},
   "source": [
    "**ANSWER**\n",
    "\n",
    "(a)\n",
    "\n",
    "$26 \\cdot 26 \\cdot 26 \\cdot 10 \\cdot 10 \\cdot 10  \\cdot 10 \\\\\n",
    "=175,760,000$\n",
    "\n",
    "order matters\n",
    "\n",
    "(b)\n",
    "\n",
    "$9! = 362880$\n",
    "\n",
    "order matters\n",
    "\n",
    "(c)\n",
    "\n",
    "$9 \\cdot 8 \\cdot 7 \\cdot 6 \\cdot 5 \\\\\n",
    "= \\frac{9!}{4!} \\\\\n",
    "=15120$\n",
    "\n",
    "order matters\n",
    "\n",
    "(d)\n",
    "\n",
    "$26 \\choose 3 $\n",
    "\n",
    "$$= \\frac{26!}{3!23!} $$\n",
    "\n",
    "$$= 2600$$\n",
    "\n",
    "order doesnt matter"
   ]
  },
  {
   "cell_type": "markdown",
   "metadata": {},
   "source": [
    "# Linear Algebra"
   ]
  },
  {
   "cell_type": "markdown",
   "metadata": {},
   "source": [
    "## 6\n",
    "**Matrix manipulations and multiplication**. Machine learning involves working with many matrices, so this exercise will provide you with the opportunity to practice those skills.\n",
    "\n",
    "Let\n",
    "$\\mathbf{A} =  \\begin{bmatrix}\n",
    "1 & 2 & 3 \\\\\n",
    "2 & 4 & 5 \\\\\n",
    "3 & 5 & 6 \n",
    "\\end{bmatrix}$, $\\mathbf{b} =  \\begin{bmatrix}\n",
    "-1  \\\\\n",
    "3  \\\\\n",
    "8  \n",
    "\\end{bmatrix}$, $\\mathbf{c} =  \\begin{bmatrix}\n",
    "4  \\\\\n",
    "-3  \\\\\n",
    "6  \n",
    "\\end{bmatrix}$, and $\\mathbf{I} =  \\begin{bmatrix}\n",
    "1 & 0 & 0 \\\\\n",
    "0 & 1 & 0 \\\\\n",
    "0 & 0 & 1 \n",
    "\\end{bmatrix}$\n",
    "\n",
    "Compute the following or indicate that it cannot be computed:\n",
    "\n",
    "1. $\\mathbf{A}\\mathbf{A}$\n",
    "2. $\\mathbf{A}\\mathbf{A}^T$\n",
    "3. $\\mathbf{A}\\mathbf{b}$\n",
    "4. $\\mathbf{A}\\mathbf{b}^T$\n",
    "5. $\\mathbf{b}\\mathbf{A}$\n",
    "6. $\\mathbf{b}^T\\mathbf{A}$\n",
    "7. $\\mathbf{b}\\mathbf{b}$\n",
    "8. $\\mathbf{b}^T\\mathbf{b}$\n",
    "9. $\\mathbf{b}\\mathbf{b}^T$\n",
    "10. $\\mathbf{b} + \\mathbf{c}^T$\n",
    "11. $\\mathbf{b}^T\\mathbf{b}^T$\n",
    "12. $\\mathbf{A}^{-1}\\mathbf{b}$\n",
    "13. $\\mathbf{A}\\circ\\mathbf{A}$\n",
    "14. $\\mathbf{b}\\circ\\mathbf{c}$\n",
    "\n",
    "*Note: The element-wise (or Hadamard) product is the product of each element in one matrix with the corresponding element in another matrix, and is represented by the symbol \"$\\circ$\".*"
   ]
  },
  {
   "cell_type": "code",
   "execution_count": 4,
   "metadata": {},
   "outputs": [
    {
     "name": "stdout",
     "output_type": "stream",
     "text": [
      "#1) AA\n",
      "[[14 25 31]\n",
      " [25 45 56]\n",
      " [31 56 70]]\n",
      "#2\n",
      "[[14 25 31]\n",
      " [25 45 56]\n",
      " [31 56 70]]\n",
      "#3\n",
      "[[29]\n",
      " [50]\n",
      " [60]]\n",
      "#4\n",
      "#5\n",
      "#6\n",
      "[[29 50 60]]\n",
      "#7\n",
      "#8\n",
      "[[74]]\n",
      "#9\n",
      "[[ 1 -3 -8]\n",
      " [-3  9 24]\n",
      " [-8 24 64]]\n",
      "#10\n",
      "#11\n",
      "#12\n",
      "[[ 6.]\n",
      " [ 4.]\n",
      " [-5.]]\n",
      "[[ 6.]\n",
      " [ 4.]\n",
      " [-5.]]\n",
      "#13\n",
      "[[ 1  4  9]\n",
      " [ 4 16 25]\n",
      " [ 9 25 36]]\n",
      "#14\n",
      "[[-4]\n",
      " [-9]\n",
      " [48]]\n"
     ]
    }
   ],
   "source": [
    "import numpy as np\n",
    "import numpy.linalg as la\n",
    "\n",
    "A = np.array([\n",
    "    [1, 2, 3],\n",
    "    [2, 4, 5],\n",
    "    [3, 5, 6],\n",
    "])\n",
    "\n",
    "b = np.array([\n",
    "    [-1],\n",
    "    [3],\n",
    "    [8],\n",
    "])\n",
    "\n",
    "c = np.array([\n",
    "    [4],\n",
    "    [-3],\n",
    "    [6],\n",
    "])\n",
    "\n",
    "I = np.array([\n",
    "    [1, 0, 0],\n",
    "    [0, 1, 0],\n",
    "    [0, 0, 1],\n",
    "])\n",
    "\n",
    "#1 AA\n",
    "\n",
    "print(\"#1) AA\")\n",
    "print(A.dot(A))\n",
    "\n",
    "#2 AxA^T\n",
    "print(\"#2\")\n",
    "print(A.dot(A.transpose()))\n",
    "\n",
    "#3 Ab\n",
    "print(\"#3\")\n",
    "print(A.dot(b))\n",
    "\n",
    "#4 Ab^T\n",
    "print(\"#4\")\n",
    "#cannot be computed\n",
    "\n",
    "#5 bA\n",
    "print(\"#5\")\n",
    "#cannot be computed\n",
    "\n",
    "#6 b^TA\n",
    "print(\"#6\")\n",
    "print(b.transpose().dot(A))\n",
    "\n",
    "#7 bb\n",
    "print(\"#7\")\n",
    "#cannot be computed\n",
    "\n",
    "#8 b^Tb\n",
    "print(\"#8\")\n",
    "print(b.transpose().dot(b))\n",
    "\n",
    "#9 bb^T\n",
    "print(\"#9\")\n",
    "print(b.dot(b.transpose()))\n",
    "\n",
    "#10 b+ c^T\n",
    "print(\"#10\")\n",
    "#cannot be computed\n",
    "\n",
    "#11 b^Tb^T\n",
    "print(\"#11\")\n",
    "#cannot be computed\n",
    "\n",
    "#12 A^-1b\n",
    "print(\"#12\")\n",
    "print(np.dot(la.inv(A),b))\n",
    "print((la.inv(A)).dot(b))\n",
    "\n",
    "#13\n",
    "print(\"#13\")\n",
    "print(A*A)\n",
    "\n",
    "#14\n",
    "print(\"#14\")\n",
    "print(b*c)"
   ]
  },
  {
   "cell_type": "markdown",
   "metadata": {},
   "source": [
    "## 6\n",
    "**Eigenvectors and eigenvalues**. Eigenvectors and eigenvalues are useful for some machine learning algorithms, but the concepts take time to solidly grasp. For an intuitive review of these concepts, explore this [interactive website at Setosa.io](http://setosa.io/ev/eigenvectors-and-eigenvalues/). Also, the series of linear algebra videos by Grant Sanderson of 3Brown1Blue are excellent and can be viewed on youtube [here](https://www.youtube.com/playlist?list=PLZHQObOWTQDPD3MizzM2xVFitgF8hE_ab).\n",
    "\n",
    "1. Calculate the eigenvalues and corresponding eigenvectors of matrix $\\mathbf{A}$ above, from the last question.\n",
    "2. Choose one of the eigenvector/eigenvalue pairs, $\\mathbf{v}$ and $\\lambda$, and show that $\\mathbf{A} \\mathbf{v} = \\lambda \\mathbf{v}$. Also show that this relationship extends to higher orders: $\\mathbf{A} \\mathbf{A} \\mathbf{v} = \\lambda^2 \\mathbf{v}$\n",
    "3. Show that the eigenvectors are orthogonal to one another (e.g. their inner product is zero). This is true for real, symmetric matrices."
   ]
  },
  {
   "cell_type": "code",
   "execution_count": 8,
   "metadata": {},
   "outputs": [
    {
     "name": "stdout",
     "output_type": "stream",
     "text": [
      "#1\n",
      "EIGENVALUES\n",
      "[11.34481428 -0.51572947  0.17091519]\n",
      "EIGENVECTORS\n",
      "[[-0.32798528 -0.73697623  0.59100905]\n",
      " [-0.59100905 -0.32798528 -0.73697623]\n",
      " [-0.73697623  0.59100905  0.32798528]]\n"
     ]
    }
   ],
   "source": [
    "print(\"#1\")\n",
    "eigenvalues, eigenvectors = la.eig(A)\n",
    "#print(eigenvalues[0][0])\n",
    "print(\"EIGENVALUES\")\n",
    "print(eigenvalues)\n",
    "print(\"EIGENVECTORS\")\n",
    "print(eigenvectors)\n",
    "\n"
   ]
  },
  {
   "cell_type": "code",
   "execution_count": 6,
   "metadata": {},
   "outputs": [
    {
     "name": "stdout",
     "output_type": "stream",
     "text": [
      "#2a\n",
      "Eigenvector_1 [-0.32798528 -0.59100905 -0.73697623]\n",
      "lambda_1 =  11.344814282762082\n",
      "A*E1 =  [-3.72093206 -6.70488789 -8.36085845]\n",
      "lambda_1*E1 =  [-3.72093206 -6.70488789 -8.36085845]\n",
      "#2a\n",
      "A*A*E1 =  [-42.2132832  -76.06570795 -94.85238636]\n",
      "lambda_1^2 * E1 =  [-42.2132832  -76.06570795 -94.85238636]\n"
     ]
    }
   ],
   "source": [
    "print(\"#2a\")\n",
    "E1 = eigenvectors[:,0]\n",
    "E2 = eigenvectors[:,1]\n",
    "E3 = eigenvectors[:,2]\n",
    "\n",
    "print(\"Eigenvector_1\", E1)\n",
    "lambda_1 = eigenvalues[0]\n",
    "print(\"lambda_1 = \", lambda_1)\n",
    "print(\"A*E1 = \", np.dot(A, E1))\n",
    "print(\"lambda_1*E1 = \", lambda_1*E1)\n",
    "\n",
    "print(\"#2a\")\n",
    "print(\"A*A*E1 = \", np.dot(np.dot(A, A), E1))\n",
    "print(\"lambda_1^2 * E1 = \", (lambda_1**2)*E1)\n",
    "\n"
   ]
  },
  {
   "cell_type": "code",
   "execution_count": 14,
   "metadata": {},
   "outputs": [
    {
     "name": "stdout",
     "output_type": "stream",
     "text": [
      "#3\n",
      "Eigenvector_1 [-0.32798528 -0.59100905 -0.73697623]\n",
      "Eigenvector_2 [-0.73697623 -0.32798528  0.59100905]\n",
      "Eigenvector_3 [ 0.59100905 -0.73697623  0.32798528]\n",
      "E1*E2 =  -2.220446049250313e-16\n",
      "E2* E3 =  -1.0547118733938987e-15\n",
      "E1* E3 =  -4.440892098500626e-16\n",
      "Vector dot products are orthogonal. Their dot products are close enough to zero to be seen as orthogonal\n"
     ]
    }
   ],
   "source": [
    "print(\"#3\")\n",
    "print(\"Eigenvector_1\", E1)\n",
    "print(\"Eigenvector_2\", E2)\n",
    "print(\"Eigenvector_3\", E3)\n",
    "print(\"E1*E2 = \", np.dot(E1, E2))\n",
    "print(\"E2* E3 = \", np.dot(E2, E3))\n",
    "print(\"E1* E3 = \", np.dot(E1, E3))\n",
    "\n",
    "print(\"Vector dot products are close enough to zero to be seen as orthogonal\")"
   ]
  },
  {
   "cell_type": "markdown",
   "metadata": {},
   "source": [
    "# Numerical Programming"
   ]
  },
  {
   "cell_type": "markdown",
   "metadata": {},
   "source": [
    "## 7\n",
    "Speed comparison between vectorized and non-vectorized code. Begin by creating an array of 10 million random numbers using the numpy random.randn module. Compute the sum of the squares first in a for loop, then using Numpy's `dot` module. Time how long it takes to compute each and report the results and report the output. How many times faster is the vectorized code than the for loop approach?\n",
    "\n",
    "*Note: all code should be well commented, properly formatted, and your answers should be output using the `print()` function as follows (where the # represents your answers, to a reasonable precision):\n",
    "\n",
    "`Time [sec] (non-vectorized): ######`\n",
    "\n",
    "`Time [sec] (vectorized):     ######`\n",
    "\n",
    "`The vectorized code is ##### times faster than the vectorized code`"
   ]
  },
  {
   "cell_type": "markdown",
   "metadata": {},
   "source": [
    "**ANSWER**"
   ]
  },
  {
   "cell_type": "code",
   "execution_count": 58,
   "metadata": {},
   "outputs": [
    {
     "name": "stdout",
     "output_type": "stream",
     "text": [
      "Time [sec] (non-vectorized):  4.929315090179443\n",
      "Time [sec] (vectorized):  0.004725933074951172\n",
      "The vectorized code is  1043.0353142972456  times faster than the vectorized code\n"
     ]
    }
   ],
   "source": [
    "import numpy as np\n",
    "import time\n",
    "\n",
    "# Generate the random samples\n",
    "random_numbers = np.random.randn(10000000)\n",
    "\n",
    "# Compute the sum of squares the non-vectorized way (using a for loop)\n",
    "def sumofsquares(listnums):\n",
    "    j = 0\n",
    "    for i in listnums:\n",
    "        j += i**2\n",
    "    return j\n",
    "\n",
    "#calculate time\n",
    "start_time_nonvec = time.time()\n",
    "sumofsquares(random_numbers)\n",
    "end_time_nonvec = time.time()\n",
    "nonvec_time = (end_time_nonvec - start_time_nonvec)\n",
    "\n",
    "# Compute the sum of squares the vectorized way (using numpy)\n",
    "\n",
    "start_time_numpy = time.time()\n",
    "\n",
    "np.dot(random_numbers, random_numbers).sum()\n",
    "\n",
    "end_time_numpy = time.time()\n",
    "\n",
    "vec_time = (end_time_numpy - start_time_numpy)\n",
    "\n",
    "# Print the results\n",
    "print(\"Time [sec] (non-vectorized): \",nonvec_time)\n",
    "print(\"Time [sec] (vectorized): \",vec_time)\n",
    "print(\"The vectorized code is \", nonvec_time/vec_time, \" times faster than the vectorized code\")"
   ]
  },
  {
   "cell_type": "markdown",
   "metadata": {},
   "source": [
    "## 8\n",
    "One popular Agile development framework is Scrum (a paradigm recommended for data science projects). It emphasizes the continual evolution of code for projects, becoming progressively better, but starting with a quickly developed minimum viable product. This often means that code written early on is not optimized, and that's a good thing - it's best to get it to work first before optimizing. Imagine that you wrote the following code during a sprint towards getting an end-to-end system working. Vectorize the following code and show the difference in speed between the current implementation and a vectorized version.\n",
    "\n",
    "The function below computes the function $f(x,y) = x^2 - 2 y^2$ and determines whether this quantity is above or below a given threshold, `thresh=0`. This is done for $x,y \\in \\{-4,4\\}$, over a 2,000-by-2,000 grid covering that domain.\n",
    "\n",
    "(a) Vectorize this code and demonstrate (as in the last exercise) the speed increase through vectorization and (b) plot the resulting data - both the function $f(x,y)$ and the thresholded output - using [`imshow`](https://matplotlib.org/api/_as_gen/matplotlib.pyplot.imshow.html?highlight=matplotlib%20pyplot%20imshow#matplotlib.pyplot.imshow) from `matplotlib`.\n",
    "\n",
    "*Hint: look at the `numpy` [`meshgrid`](https://docs.scipy.org/doc/numpy-1.13.0/reference/generated/numpy.meshgrid.html) documentation*"
   ]
  },
  {
   "cell_type": "code",
   "execution_count": 79,
   "metadata": {},
   "outputs": [
    {
     "name": "stdout",
     "output_type": "stream",
     "text": [
      "Time [sec] (Non-vectorized):  7.33\n",
      "Time [sec] (Vectorized):  0.048\n",
      "Vectorized code is  153.764 times faster than vectorized code\n"
     ]
    },
    {
     "data": {
      "image/png": "[encoded data removed]",
      "text/plain": [
       "<Figure size 432x288 with 1 Axes>"
      ]
     },
     "metadata": {
      "needs_background": "light"
     },
     "output_type": "display_data"
    },
    {
     "data": {
      "image/png": "[encoded data removed]",
      "text/plain": [
       "<Figure size 432x288 with 1 Axes>"
      ]
     },
     "metadata": {
      "needs_background": "light"
     },
     "output_type": "display_data"
    }
   ],
   "source": [
    "import numpy as np\n",
    "import time\n",
    "import matplotlib.pyplot as plt\n",
    "\n",
    "# Initialize variables for this exerise\n",
    "x = np.linspace(-4,4, num = 2000)\n",
    "y = np.linspace(-4,4, num = 2000)\n",
    "threshold = 0\n",
    "\n",
    "# Nonvectorized implementation\n",
    "start_time_1 = time.time()\n",
    "\n",
    "#Grid set-up\n",
    "X,Y = np.meshgrid(x,y)\n",
    "nonVec = np.zeros((2000,2000))\n",
    "\n",
    "#create function\n",
    "def function(x,y):\n",
    "    z = x**2 - 2*y**2\n",
    "    #if z > threshold:\n",
    "    #    return 1\n",
    "    #else:\n",
    "    #    return 0\n",
    "    #pass\n",
    "    return z\n",
    "\n",
    "for i in range(2000):\n",
    "    for j in range(2000):\n",
    "        nonVec[i,j] = function(X[i,j],Y[i,j])\n",
    "        pass\n",
    "    pass\n",
    "end_time_1 = time.time()\n",
    "time_nonvec_threshold = end_time_1-start_time_1\n",
    "\n",
    "start_time_2 = time.time()\n",
    "for i in range(2000):\n",
    "    for j in range(2000):\n",
    "        nonVec[i,j] = function(X[i,j],Y[i,j])\n",
    "        pass\n",
    "    pass\n",
    "end_time_2 = time.time()\n",
    "time_nonvec = end_time_2-start_time_2\n",
    "\n",
    "# Vectorized implementation\n",
    "start_time = time.time()\n",
    "X, Y = np.meshgrid(x, y)\n",
    "vectorized = X**2 - 2*Y**2\n",
    "vectorized = vectorized > threshold\n",
    "end_time = time.time()\n",
    "time_vectorized = end_time - start_time\n",
    "\n",
    "# Print the time for each and the speed increase\n",
    "print(\"Time [sec] (Non-vectorized): \",\n",
    "round(time_nonvec, 3))\n",
    "print(\"Time [sec] (Vectorized): \",\n",
    "round(time_vectorized, 3))\n",
    "print(\"Vectorized code is \", \n",
    "      round(time_nonvec/time_vectorized, 3), \n",
    "      \"times faster than vectorized code\")\n",
    "\n",
    "# Plot the result\n",
    "plt.imshow(nonVec)\n",
    "plt.title('Non-vectorized implementation')\n",
    "plt.show()\n",
    "plt.imshow(vectorized)\n",
    "plt.title('Vectorized Implementation')\n",
    "plt.show()\n"
   ]
  },
  {
   "cell_type": "markdown",
   "metadata": {},
   "source": [
    "## 9\n",
    "This exercise will walk through some basic numerical programming exercises.\n",
    "1. Synthesize $n=10^4$ normally distributed data points with mean $\\mu=2$ and a standard deviation of $\\sigma=1$. Call these observations from a random variable $X$, and call the vector of observations that you generate, $\\textbf{x}$.\n",
    "2. Calculate the mean and standard deviation of $\\textbf{x}$ to validate (1) and provide the result to a precision of four significant figures.\n",
    "3. Plot a histogram of the data in $\\textbf{x}$ with 30 bins\n",
    "4. What is the 90th percentile of $\\textbf{x}$? The 90th percentile is the value below which 90% of observations can be found.\n",
    "5. What is the 99th percentile of $\\textbf{x}$?\n",
    "6. Now synthesize $n=10^4$ normally distributed data points with mean $\\mu=0$ and a standard deviation of $\\sigma=3$. Call these observations from a random variable $Y$, and call the vector of observations that you generate, $\\textbf{y}$.\n",
    "7. Plot the histogram of the data in $\\textbf{y}$ on a (new) plot with the histogram of $\\textbf{x}$, so that both histograms can be seen and compared.\n",
    "8. Using the observations from $\\textbf{x}$ and $\\textbf{y}$, estimate $E[XY]$"
   ]
  },
  {
   "cell_type": "code",
   "execution_count": null,
   "metadata": {},
   "outputs": [],
   "source": []
  },
  {
   "cell_type": "markdown",
   "metadata": {},
   "source": [
    "**ANSWER**"
   ]
  },
  {
   "cell_type": "code",
   "execution_count": 72,
   "metadata": {},
   "outputs": [
    {
     "name": "stdout",
     "output_type": "stream",
     "text": [
      "mean of x:  2.01\n",
      "standard deviation of x:  1.0129\n"
     ]
    },
    {
     "data": {
      "image/png": "[encoded data removed]",
      "text/plain": [
       "<Figure size 432x288 with 1 Axes>"
      ]
     },
     "metadata": {
      "needs_background": "light"
     },
     "output_type": "display_data"
    },
    {
     "name": "stdout",
     "output_type": "stream",
     "text": [
      "90th percentile =  3.2952714155991507\n",
      "99th percentile =  4.380589775329427\n"
     ]
    },
    {
     "data": {
      "image/png": "[encoded data removed]",
      "text/plain": [
       "<Figure size 432x288 with 1 Axes>"
      ]
     },
     "metadata": {
      "needs_background": "light"
     },
     "output_type": "display_data"
    },
    {
     "name": "stdout",
     "output_type": "stream",
     "text": [
      "E[XY] =  -0.04038099435894641\n"
     ]
    }
   ],
   "source": [
    "# 1\n",
    "n, mu, sigma = 10000, 2, 1 # mean and standard deviation\n",
    "x = np.random.normal(mu, sigma, n)\n",
    "\n",
    "# 2\n",
    "print(\"mean of x: \", round(np.mean(x), 4))\n",
    "print(\"standard deviation of x: \", round(np.std(x), 4))\n",
    "\n",
    "# 3\n",
    "plt.hist(x, bins = 30)\n",
    "plt.title(\"Histogram\")\n",
    "plt.xlabel(\"Value\")\n",
    "plt.ylabel(\"Frequency\")\n",
    "plt.show()\n",
    "\n",
    "# 4\n",
    "print(\"90th percentile = \", np.percentile(x, 90))\n",
    "\n",
    "# 5\n",
    "print(\"99th percentile = \", np.percentile(x, 99))\n",
    "\n",
    "# 6\n",
    "mu_2, sigma_2 = 0, 3 # mean and standard deviation\n",
    "y = np.random.normal(mu_2, sigma_2, n)\n",
    "\n",
    "# 7\n",
    "plt.hist(x, bins = 30, alpha = 0.3, label = 'x')\n",
    "\n",
    "plt.hist(y, bins = 30, alpha = 0.5, label = 'y')\n",
    "plt.legend(loc = \"upper right\")\n",
    "plt.title(\"Histogram\")\n",
    "plt.xlabel(\"Value\")\n",
    "plt.ylabel(\"Frequency\")\n",
    "plt.show()\n",
    "# 8\n",
    "def summation(list_1, list_2):\n",
    "    z = 0\n",
    "    for i in range(10000):\n",
    "        z = z + list_1[i]*list_2[i]\n",
    "    return (z/10000)\n",
    "pass\n",
    "print(\"E[XY] = \", np.mean(x)*np.mean(y))\n"
   ]
  },
  {
   "cell_type": "markdown",
   "metadata": {},
   "source": [
    "## 10\n",
    "Estimate the integral of the function $f(x)$ on the interval $0\\leq x < 2.5$ assuming we only know the following points from $f$:\n",
    "\n",
    "*Table 1. Dataset containing n=5 observations*\n",
    "\n",
    "| $x_i$ | 0.0 | 0.5 | 1.0 | 1.5 | 2.0 |\n",
    "|-|-|-|-|-|-|\n",
    "| $y_i$ | 6 | 7 | 8 | 4 | 1 |\n"
   ]
  },
  {
   "cell_type": "markdown",
   "metadata": {},
   "source": [
    "**ANSWER**\n",
    "Using the midpoint rule for estimating integrals:\n",
    "$$\\frac{1}{2}[6.5 + 7.5 + 6 + 2.5]$$\n",
    "$$\\int^{2.5}_{0}f(x) \\, dx \\approx \\frac{1}{2}[6.5 + 7.5 + 6 + 2.5] = 11.25 $$\n"
   ]
  },
  {
   "cell_type": "markdown",
   "metadata": {
    "collapsed": true
   },
   "source": [
    "# Version Control via Git"
   ]
  },
  {
   "cell_type": "markdown",
   "metadata": {},
   "source": [
    "## 11\n",
    "Complete the [Atlassian Git tutorial](https://www.atlassian.com/git/tutorials/what-is-version-control), specifically the following sections. Try each concept that's presented. For this tutorial, instead of using BitBucket, use Github. Create a github account here if you don't already have one: https://github.com/\n",
    "1. [What is version control](https://www.atlassian.com/git/tutorials/what-is-version-control)\n",
    "2. [What is Git](https://www.atlassian.com/git/tutorials/what-is-git)\n",
    "3. [Install Git](https://www.atlassian.com/git/tutorials/install-git)\n",
    "4. [Setting up a repository](https://www.atlassian.com/git/tutorials/install-git)\n",
    "5. [Saving changes](https://www.atlassian.com/git/tutorials/saving-changes)\n",
    "6. [Inspecting a repository](https://www.atlassian.com/git/tutorials/inspecting-a-repository)\n",
    "7. [Undoing changes](https://www.atlassian.com/git/tutorials/undoing-changes)\n",
    "8. [Rewriting history](https://www.atlassian.com/git/tutorials/rewriting-history)\n",
    "9. [Syncing](https://www.atlassian.com/git/tutorials/syncing)\n",
    "10. [Making a pull request](https://www.atlassian.com/git/tutorials/making-a-pull-request)\n",
    "11. [Using branches](https://www.atlassian.com/git/tutorials/using-branches)\n",
    "12. [Comparing workflows](https://www.atlassian.com/git/tutorials/comparing-workflows)\n",
    "\n",
    "For your answer, affirm that you either completed the tutorial or have previous experience with all of the concepts above. Do this by typing your name below and selecting the situation that applies from the two options in brackets."
   ]
  },
  {
   "cell_type": "markdown",
   "metadata": {},
   "source": [
    "**ANSWER**\n",
    "\n",
    "*I, [Malvika Marathe], affirm that I have [completed the above tutorial]*"
   ]
  },
  {
   "cell_type": "markdown",
   "metadata": {},
   "source": [
    "## 12\n",
    "Using Github to create a static HTML website:\n",
    "1. Create a branch in your `machine-learning-course` repo called \"gh-pages\" and checkout that branch (this will provide an example of how to create a simple static website using [Github Pages](https://pages.github.com/))\n",
    "2. Create a file called \"index.html\" with the contents \"Hello World\" and add, commit, and push it to that branch.\n",
    "3. Submit the following: (a) a link to your github repository and (b) a link to your new \"Hello World\" website. The latter should be at the address https://[USERNAME].github.io/ECE590-assignment0 (where [USERNAME] is your github username)."
   ]
  },
  {
   "cell_type": "markdown",
   "metadata": {},
   "source": [
    "**ANSWER**\n",
    "\n",
    "**a)** Link to github repo: https://github.com/mm95nov/Machine-Learning-Course/tree/gh-pages\n",
    "\n",
    "**b)** Link to Hello World: https://mm95nov.github.io/Machine-Learning-Course/\n",
    "\n",
    "\n"
   ]
  },
  {
   "cell_type": "markdown",
   "metadata": {
    "collapsed": true
   },
   "source": [
    "# Exploratory Data Analysis\n",
    "## 13\n",
    "Here you'll bring together some of the individual skills that you demonstrated above and create a Jupyter notebook based blog post on data analysis.\n",
    "\n",
    "1. Find a dataset that interests you and relates to a question or problem that you find intriguing\n",
    "2. Using a Jupyter notebook, describe the dataset, the source of the data, and the reason the dataset was of interest.\n",
    "3. Check the data and see if they need to be cleaned: are there missing values? Are there clearly erroneous values? Do two tables need to be merged together? Clean the data so it can be visualized.\n",
    "3. Plot the data, demonstrating interesting features that you discover. Are there any relationships between variables that were surprising or patterns that emerged? Please exercise creativity and curiosity in your plots.\n",
    "4. What insights are you able to take away from exploring the data? Is there a reason why analyzing the dataset you chose is particularly interesting or important? Summarize this as if your target audience was the readership of a major news organization - boil down your findings in a way that is accessible, but still accurate.\n",
    "5. Create a public repository on your github account titled \"machine-learning-course\". In it, create a readme file that contains the heading \"ECE590: Introductory Machine Learning for Data Science\". Add, commit, and push that Jupyter notebook to the master branch. Provide the link to the that post here."
   ]
  },
  {
   "cell_type": "markdown",
   "metadata": {},
   "source": [
    "**ANSWER**\n",
    "\n"
   ]
  }
 ],
 "metadata": {
  "kernelspec": {
   "display_name": "Python 3",
   "language": "python",
   "name": "python3"
  },
  "language_info": {
   "codemirror_mode": {
    "name": "ipython",
    "version": 3
   },
   "file_extension": ".py",
   "mimetype": "text/x-python",
   "name": "python",
   "nbconvert_exporter": "python",
   "pygments_lexer": "ipython3",
   "version": "3.7.1"
  }
 },
 "nbformat": 4,
 "nbformat_minor": 2
}
